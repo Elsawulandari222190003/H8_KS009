{
 "cells": [
  {
   "cell_type": "markdown",
   "id": "ccd796ce",
   "metadata": {},
   "source": [
    "<img src = \"https://global-uploads.webflow.com/5f0d53c042a9ed6288de7f8d/5f6337ae2cfaa10946ceeb06_Hacktiv8%20logo%20horizontal%2001%20black-p-500.png\" width = 800>"
   ]
  },
  {
   "cell_type": "markdown",
   "id": "e09999e0",
   "metadata": {},
   "source": [
    "# Assignment 2\n",
    "### Sesi 8_PYTN-KS09-002\n",
    "### Nama : Elsa Wulandari"
   ]
  },
  {
   "cell_type": "markdown",
   "id": "904446dd",
   "metadata": {},
   "source": [
    "# 1. Project Overview\n",
    "Tujuan dari proyek ini adalah untuk melakukan statistik praktis dengan Python menggunakan Dataset Penjualan Properti NYC dari Kaggle. Dataset ini adalah catatan dari setiap bangunan atau unit bangunan (apartemen, dll) yang dijual di pasar properti New York City selama periode 12 bulan dari September 2016 hingga September 2017.Pada link berikut ini: https://www.kaggle.com/datasets/new-york-city/nyc-property-sales\n",
    "\n",
    "Data yang terdapat di dataset ini yaitu :\n",
    "location, address, type, sale price, and sale date of building units sold,Referensi di bidang yang lebih rumit:\n",
    "  **BOROUGH** : Kode digit untuk borough tempat properti tersebut berada; dalam urutan ini adalah Manhattan (1), Bronx (2), Brooklyn (3), Queens (4), dan Staten Island (5).\n",
    "\n",
    "BLOCK; LOT: Kombinasi borough, block, dan lot membentuk kunci unik untuk properti di New York City. Biasa disebut BBL.\n",
    "\n",
    "BUILDING CLASS AT PRESENT dan BUILDING CLASS AT TIME OF SALE: Jenis bangunan pada berbagai titik waktu.\n",
    "\n"
   ]
  },
  {
   "cell_type": "markdown",
   "id": "bcd937bd",
   "metadata": {},
   "source": [
    "# 2. Mempersiapkan Data"
   ]
  },
  {
   "cell_type": "markdown",
   "id": "2ac41741",
   "metadata": {},
   "source": [
    "Hal pertama adalah mengimport semua perpustakaan yang akan digunakan pada proyek ini."
   ]
  },
  {
   "cell_type": "markdown",
   "id": "adb618ae",
   "metadata": {},
   "source": [
    "### Import Libraries"
   ]
  },
  {
   "cell_type": "code",
   "execution_count": 244,
   "metadata": {},
   "outputs": [
    {
     "name": "stderr",
     "output_type": "stream",
     "text": [
      "'pip' is not recognized as an internal or external command,\n",
      "operable program or batch file.\n"
     ]
    }
   ],
   "source": [
    "!pip install statsmodels"
   ]
  },
  {
   "cell_type": "code",
   "execution_count": 247,
   "id": "f0dc8b78",
   "metadata": {},
   "outputs": [],
   "source": [
    "import pandas as pd\n",
    "import numpy as np\n",
    "import matplotlib as mpl\n",
    "import matplotlib.pyplot as plt\n",
    "import seaborn as sns\n",
    "from scipy import stats\n",
    "import statistics\n",
    "import scipy.stats as scistats\n",
    "import statsmodels.api as sm\n",
    "%matplotlib inline"
   ]
  },
  {
   "cell_type": "code",
   "execution_count": 248,
   "id": "6dcf4ad3",
   "metadata": {},
   "outputs": [
    {
     "name": "stdout",
     "output_type": "stream",
     "text": [
      "Data is loaded into a Pandas data frame!\n"
     ]
    }
   ],
   "source": [
    "df = pd.read_csv('nyc-rolling-sales.csv')\n",
    "print('Data is loaded into a Pandas data frame!')"
   ]
  },
  {
   "cell_type": "markdown",
   "metadata": {},
   "source": [
    "# 3. Data Preprocessing"
   ]
  },
  {
   "cell_type": "code",
   "execution_count": 249,
   "id": "ed6fdfe9",
   "metadata": {},
   "outputs": [
    {
     "name": "stdout",
     "output_type": "stream",
     "text": [
      "<class 'pandas.core.frame.DataFrame'>\n",
      "RangeIndex: 84548 entries, 0 to 84547\n",
      "Data columns (total 22 columns):\n",
      " #   Column                          Non-Null Count  Dtype \n",
      "---  ------                          --------------  ----- \n",
      " 0   Unnamed: 0                      84548 non-null  int64 \n",
      " 1   BOROUGH                         84548 non-null  int64 \n",
      " 2   NEIGHBORHOOD                    84548 non-null  object\n",
      " 3   BUILDING CLASS CATEGORY         84548 non-null  object\n",
      " 4   TAX CLASS AT PRESENT            84548 non-null  object\n",
      " 5   BLOCK                           84548 non-null  int64 \n",
      " 6   LOT                             84548 non-null  int64 \n",
      " 7   EASE-MENT                       84548 non-null  object\n",
      " 8   BUILDING CLASS AT PRESENT       84548 non-null  object\n",
      " 9   ADDRESS                         84548 non-null  object\n",
      " 10  APARTMENT NUMBER                84548 non-null  object\n",
      " 11  ZIP CODE                        84548 non-null  int64 \n",
      " 12  RESIDENTIAL UNITS               84548 non-null  int64 \n",
      " 13  COMMERCIAL UNITS                84548 non-null  int64 \n",
      " 14  TOTAL UNITS                     84548 non-null  int64 \n",
      " 15  LAND SQUARE FEET                84548 non-null  object\n",
      " 16  GROSS SQUARE FEET               84548 non-null  object\n",
      " 17  YEAR BUILT                      84548 non-null  int64 \n",
      " 18  TAX CLASS AT TIME OF SALE       84548 non-null  int64 \n",
      " 19  BUILDING CLASS AT TIME OF SALE  84548 non-null  object\n",
      " 20  SALE PRICE                      84548 non-null  object\n",
      " 21  SALE DATE                       84548 non-null  object\n",
      "dtypes: int64(10), object(12)\n",
      "memory usage: 14.2+ MB\n"
     ]
    }
   ],
   "source": [
    "df.info()#Melihat tipe objek masing-masing kolom"
   ]
  },
  {
   "cell_type": "code",
   "execution_count": 250,
   "id": "1260182d",
   "metadata": {},
   "outputs": [
    {
     "data": {
      "text/html": [
       "<div>\n",
       "<style scoped>\n",
       "    .dataframe tbody tr th:only-of-type {\n",
       "        vertical-align: middle;\n",
       "    }\n",
       "\n",
       "    .dataframe tbody tr th {\n",
       "        vertical-align: top;\n",
       "    }\n",
       "\n",
       "    .dataframe thead th {\n",
       "        text-align: right;\n",
       "    }\n",
       "</style>\n",
       "<table border=\"1\" class=\"dataframe\">\n",
       "  <thead>\n",
       "    <tr style=\"text-align: right;\">\n",
       "      <th></th>\n",
       "      <th>Unnamed: 0</th>\n",
       "      <th>BOROUGH</th>\n",
       "      <th>NEIGHBORHOOD</th>\n",
       "      <th>BUILDING CLASS CATEGORY</th>\n",
       "      <th>TAX CLASS AT PRESENT</th>\n",
       "      <th>BLOCK</th>\n",
       "      <th>LOT</th>\n",
       "      <th>EASE-MENT</th>\n",
       "      <th>BUILDING CLASS AT PRESENT</th>\n",
       "      <th>ADDRESS</th>\n",
       "      <th>...</th>\n",
       "      <th>RESIDENTIAL UNITS</th>\n",
       "      <th>COMMERCIAL UNITS</th>\n",
       "      <th>TOTAL UNITS</th>\n",
       "      <th>LAND SQUARE FEET</th>\n",
       "      <th>GROSS SQUARE FEET</th>\n",
       "      <th>YEAR BUILT</th>\n",
       "      <th>TAX CLASS AT TIME OF SALE</th>\n",
       "      <th>BUILDING CLASS AT TIME OF SALE</th>\n",
       "      <th>SALE PRICE</th>\n",
       "      <th>SALE DATE</th>\n",
       "    </tr>\n",
       "  </thead>\n",
       "  <tbody>\n",
       "    <tr>\n",
       "      <th>0</th>\n",
       "      <td>4</td>\n",
       "      <td>1</td>\n",
       "      <td>ALPHABET CITY</td>\n",
       "      <td>07 RENTALS - WALKUP APARTMENTS</td>\n",
       "      <td>2A</td>\n",
       "      <td>392</td>\n",
       "      <td>6</td>\n",
       "      <td></td>\n",
       "      <td>C2</td>\n",
       "      <td>153 AVENUE B</td>\n",
       "      <td>...</td>\n",
       "      <td>5</td>\n",
       "      <td>0</td>\n",
       "      <td>5</td>\n",
       "      <td>1633</td>\n",
       "      <td>6440</td>\n",
       "      <td>1900</td>\n",
       "      <td>2</td>\n",
       "      <td>C2</td>\n",
       "      <td>6625000</td>\n",
       "      <td>2017-07-19 00:00:00</td>\n",
       "    </tr>\n",
       "    <tr>\n",
       "      <th>1</th>\n",
       "      <td>5</td>\n",
       "      <td>1</td>\n",
       "      <td>ALPHABET CITY</td>\n",
       "      <td>07 RENTALS - WALKUP APARTMENTS</td>\n",
       "      <td>2</td>\n",
       "      <td>399</td>\n",
       "      <td>26</td>\n",
       "      <td></td>\n",
       "      <td>C7</td>\n",
       "      <td>234 EAST 4TH   STREET</td>\n",
       "      <td>...</td>\n",
       "      <td>28</td>\n",
       "      <td>3</td>\n",
       "      <td>31</td>\n",
       "      <td>4616</td>\n",
       "      <td>18690</td>\n",
       "      <td>1900</td>\n",
       "      <td>2</td>\n",
       "      <td>C7</td>\n",
       "      <td>-</td>\n",
       "      <td>2016-12-14 00:00:00</td>\n",
       "    </tr>\n",
       "    <tr>\n",
       "      <th>2</th>\n",
       "      <td>6</td>\n",
       "      <td>1</td>\n",
       "      <td>ALPHABET CITY</td>\n",
       "      <td>07 RENTALS - WALKUP APARTMENTS</td>\n",
       "      <td>2</td>\n",
       "      <td>399</td>\n",
       "      <td>39</td>\n",
       "      <td></td>\n",
       "      <td>C7</td>\n",
       "      <td>197 EAST 3RD   STREET</td>\n",
       "      <td>...</td>\n",
       "      <td>16</td>\n",
       "      <td>1</td>\n",
       "      <td>17</td>\n",
       "      <td>2212</td>\n",
       "      <td>7803</td>\n",
       "      <td>1900</td>\n",
       "      <td>2</td>\n",
       "      <td>C7</td>\n",
       "      <td>-</td>\n",
       "      <td>2016-12-09 00:00:00</td>\n",
       "    </tr>\n",
       "    <tr>\n",
       "      <th>3</th>\n",
       "      <td>7</td>\n",
       "      <td>1</td>\n",
       "      <td>ALPHABET CITY</td>\n",
       "      <td>07 RENTALS - WALKUP APARTMENTS</td>\n",
       "      <td>2B</td>\n",
       "      <td>402</td>\n",
       "      <td>21</td>\n",
       "      <td></td>\n",
       "      <td>C4</td>\n",
       "      <td>154 EAST 7TH STREET</td>\n",
       "      <td>...</td>\n",
       "      <td>10</td>\n",
       "      <td>0</td>\n",
       "      <td>10</td>\n",
       "      <td>2272</td>\n",
       "      <td>6794</td>\n",
       "      <td>1913</td>\n",
       "      <td>2</td>\n",
       "      <td>C4</td>\n",
       "      <td>3936272</td>\n",
       "      <td>2016-09-23 00:00:00</td>\n",
       "    </tr>\n",
       "    <tr>\n",
       "      <th>4</th>\n",
       "      <td>8</td>\n",
       "      <td>1</td>\n",
       "      <td>ALPHABET CITY</td>\n",
       "      <td>07 RENTALS - WALKUP APARTMENTS</td>\n",
       "      <td>2A</td>\n",
       "      <td>404</td>\n",
       "      <td>55</td>\n",
       "      <td></td>\n",
       "      <td>C2</td>\n",
       "      <td>301 EAST 10TH   STREET</td>\n",
       "      <td>...</td>\n",
       "      <td>6</td>\n",
       "      <td>0</td>\n",
       "      <td>6</td>\n",
       "      <td>2369</td>\n",
       "      <td>4615</td>\n",
       "      <td>1900</td>\n",
       "      <td>2</td>\n",
       "      <td>C2</td>\n",
       "      <td>8000000</td>\n",
       "      <td>2016-11-17 00:00:00</td>\n",
       "    </tr>\n",
       "    <tr>\n",
       "      <th>...</th>\n",
       "      <td>...</td>\n",
       "      <td>...</td>\n",
       "      <td>...</td>\n",
       "      <td>...</td>\n",
       "      <td>...</td>\n",
       "      <td>...</td>\n",
       "      <td>...</td>\n",
       "      <td>...</td>\n",
       "      <td>...</td>\n",
       "      <td>...</td>\n",
       "      <td>...</td>\n",
       "      <td>...</td>\n",
       "      <td>...</td>\n",
       "      <td>...</td>\n",
       "      <td>...</td>\n",
       "      <td>...</td>\n",
       "      <td>...</td>\n",
       "      <td>...</td>\n",
       "      <td>...</td>\n",
       "      <td>...</td>\n",
       "      <td>...</td>\n",
       "    </tr>\n",
       "    <tr>\n",
       "      <th>84543</th>\n",
       "      <td>8409</td>\n",
       "      <td>5</td>\n",
       "      <td>WOODROW</td>\n",
       "      <td>02 TWO FAMILY DWELLINGS</td>\n",
       "      <td>1</td>\n",
       "      <td>7349</td>\n",
       "      <td>34</td>\n",
       "      <td></td>\n",
       "      <td>B9</td>\n",
       "      <td>37 QUAIL LANE</td>\n",
       "      <td>...</td>\n",
       "      <td>2</td>\n",
       "      <td>0</td>\n",
       "      <td>2</td>\n",
       "      <td>2400</td>\n",
       "      <td>2575</td>\n",
       "      <td>1998</td>\n",
       "      <td>1</td>\n",
       "      <td>B9</td>\n",
       "      <td>450000</td>\n",
       "      <td>2016-11-28 00:00:00</td>\n",
       "    </tr>\n",
       "    <tr>\n",
       "      <th>84544</th>\n",
       "      <td>8410</td>\n",
       "      <td>5</td>\n",
       "      <td>WOODROW</td>\n",
       "      <td>02 TWO FAMILY DWELLINGS</td>\n",
       "      <td>1</td>\n",
       "      <td>7349</td>\n",
       "      <td>78</td>\n",
       "      <td></td>\n",
       "      <td>B9</td>\n",
       "      <td>32 PHEASANT LANE</td>\n",
       "      <td>...</td>\n",
       "      <td>2</td>\n",
       "      <td>0</td>\n",
       "      <td>2</td>\n",
       "      <td>2498</td>\n",
       "      <td>2377</td>\n",
       "      <td>1998</td>\n",
       "      <td>1</td>\n",
       "      <td>B9</td>\n",
       "      <td>550000</td>\n",
       "      <td>2017-04-21 00:00:00</td>\n",
       "    </tr>\n",
       "    <tr>\n",
       "      <th>84545</th>\n",
       "      <td>8411</td>\n",
       "      <td>5</td>\n",
       "      <td>WOODROW</td>\n",
       "      <td>02 TWO FAMILY DWELLINGS</td>\n",
       "      <td>1</td>\n",
       "      <td>7351</td>\n",
       "      <td>60</td>\n",
       "      <td></td>\n",
       "      <td>B2</td>\n",
       "      <td>49 PITNEY AVENUE</td>\n",
       "      <td>...</td>\n",
       "      <td>2</td>\n",
       "      <td>0</td>\n",
       "      <td>2</td>\n",
       "      <td>4000</td>\n",
       "      <td>1496</td>\n",
       "      <td>1925</td>\n",
       "      <td>1</td>\n",
       "      <td>B2</td>\n",
       "      <td>460000</td>\n",
       "      <td>2017-07-05 00:00:00</td>\n",
       "    </tr>\n",
       "    <tr>\n",
       "      <th>84546</th>\n",
       "      <td>8412</td>\n",
       "      <td>5</td>\n",
       "      <td>WOODROW</td>\n",
       "      <td>22 STORE BUILDINGS</td>\n",
       "      <td>4</td>\n",
       "      <td>7100</td>\n",
       "      <td>28</td>\n",
       "      <td></td>\n",
       "      <td>K6</td>\n",
       "      <td>2730 ARTHUR KILL ROAD</td>\n",
       "      <td>...</td>\n",
       "      <td>0</td>\n",
       "      <td>7</td>\n",
       "      <td>7</td>\n",
       "      <td>208033</td>\n",
       "      <td>64117</td>\n",
       "      <td>2001</td>\n",
       "      <td>4</td>\n",
       "      <td>K6</td>\n",
       "      <td>11693337</td>\n",
       "      <td>2016-12-21 00:00:00</td>\n",
       "    </tr>\n",
       "    <tr>\n",
       "      <th>84547</th>\n",
       "      <td>8413</td>\n",
       "      <td>5</td>\n",
       "      <td>WOODROW</td>\n",
       "      <td>35 INDOOR PUBLIC AND CULTURAL FACILITIES</td>\n",
       "      <td>4</td>\n",
       "      <td>7105</td>\n",
       "      <td>679</td>\n",
       "      <td></td>\n",
       "      <td>P9</td>\n",
       "      <td>155 CLAY PIT ROAD</td>\n",
       "      <td>...</td>\n",
       "      <td>0</td>\n",
       "      <td>1</td>\n",
       "      <td>1</td>\n",
       "      <td>10796</td>\n",
       "      <td>2400</td>\n",
       "      <td>2006</td>\n",
       "      <td>4</td>\n",
       "      <td>P9</td>\n",
       "      <td>69300</td>\n",
       "      <td>2016-10-27 00:00:00</td>\n",
       "    </tr>\n",
       "  </tbody>\n",
       "</table>\n",
       "<p>84548 rows × 22 columns</p>\n",
       "</div>"
      ],
      "text/plain": [
       "       Unnamed: 0  BOROUGH   NEIGHBORHOOD  \\\n",
       "0               4        1  ALPHABET CITY   \n",
       "1               5        1  ALPHABET CITY   \n",
       "2               6        1  ALPHABET CITY   \n",
       "3               7        1  ALPHABET CITY   \n",
       "4               8        1  ALPHABET CITY   \n",
       "...           ...      ...            ...   \n",
       "84543        8409        5        WOODROW   \n",
       "84544        8410        5        WOODROW   \n",
       "84545        8411        5        WOODROW   \n",
       "84546        8412        5        WOODROW   \n",
       "84547        8413        5        WOODROW   \n",
       "\n",
       "                           BUILDING CLASS CATEGORY TAX CLASS AT PRESENT  \\\n",
       "0      07 RENTALS - WALKUP APARTMENTS                                2A   \n",
       "1      07 RENTALS - WALKUP APARTMENTS                                 2   \n",
       "2      07 RENTALS - WALKUP APARTMENTS                                 2   \n",
       "3      07 RENTALS - WALKUP APARTMENTS                                2B   \n",
       "4      07 RENTALS - WALKUP APARTMENTS                                2A   \n",
       "...                                            ...                  ...   \n",
       "84543  02 TWO FAMILY DWELLINGS                                        1   \n",
       "84544  02 TWO FAMILY DWELLINGS                                        1   \n",
       "84545  02 TWO FAMILY DWELLINGS                                        1   \n",
       "84546  22 STORE BUILDINGS                                             4   \n",
       "84547  35 INDOOR PUBLIC AND CULTURAL FACILITIES                       4   \n",
       "\n",
       "       BLOCK  LOT EASE-MENT BUILDING CLASS AT PRESENT                 ADDRESS  \\\n",
       "0        392    6                                  C2            153 AVENUE B   \n",
       "1        399   26                                  C7   234 EAST 4TH   STREET   \n",
       "2        399   39                                  C7   197 EAST 3RD   STREET   \n",
       "3        402   21                                  C4     154 EAST 7TH STREET   \n",
       "4        404   55                                  C2  301 EAST 10TH   STREET   \n",
       "...      ...  ...       ...                       ...                     ...   \n",
       "84543   7349   34                                  B9           37 QUAIL LANE   \n",
       "84544   7349   78                                  B9        32 PHEASANT LANE   \n",
       "84545   7351   60                                  B2        49 PITNEY AVENUE   \n",
       "84546   7100   28                                  K6   2730 ARTHUR KILL ROAD   \n",
       "84547   7105  679                                  P9       155 CLAY PIT ROAD   \n",
       "\n",
       "       ... RESIDENTIAL UNITS  COMMERCIAL UNITS  TOTAL UNITS  LAND SQUARE FEET  \\\n",
       "0      ...                 5                 0            5              1633   \n",
       "1      ...                28                 3           31              4616   \n",
       "2      ...                16                 1           17              2212   \n",
       "3      ...                10                 0           10              2272   \n",
       "4      ...                 6                 0            6              2369   \n",
       "...    ...               ...               ...          ...               ...   \n",
       "84543  ...                 2                 0            2              2400   \n",
       "84544  ...                 2                 0            2              2498   \n",
       "84545  ...                 2                 0            2              4000   \n",
       "84546  ...                 0                 7            7            208033   \n",
       "84547  ...                 0                 1            1             10796   \n",
       "\n",
       "       GROSS SQUARE FEET YEAR BUILT TAX CLASS AT TIME OF SALE  \\\n",
       "0                   6440       1900                         2   \n",
       "1                  18690       1900                         2   \n",
       "2                   7803       1900                         2   \n",
       "3                   6794       1913                         2   \n",
       "4                   4615       1900                         2   \n",
       "...                  ...        ...                       ...   \n",
       "84543               2575       1998                         1   \n",
       "84544               2377       1998                         1   \n",
       "84545               1496       1925                         1   \n",
       "84546              64117       2001                         4   \n",
       "84547               2400       2006                         4   \n",
       "\n",
       "       BUILDING CLASS AT TIME OF SALE  SALE PRICE            SALE DATE  \n",
       "0                                  C2     6625000  2017-07-19 00:00:00  \n",
       "1                                  C7         -    2016-12-14 00:00:00  \n",
       "2                                  C7         -    2016-12-09 00:00:00  \n",
       "3                                  C4     3936272  2016-09-23 00:00:00  \n",
       "4                                  C2     8000000  2016-11-17 00:00:00  \n",
       "...                               ...         ...                  ...  \n",
       "84543                              B9      450000  2016-11-28 00:00:00  \n",
       "84544                              B9      550000  2017-04-21 00:00:00  \n",
       "84545                              B2      460000  2017-07-05 00:00:00  \n",
       "84546                              K6    11693337  2016-12-21 00:00:00  \n",
       "84547                              P9       69300  2016-10-27 00:00:00  \n",
       "\n",
       "[84548 rows x 22 columns]"
      ]
     },
     "metadata": {},
     "output_type": "display_data"
    }
   ],
   "source": [
    "display(df)#Menampilkan 5 baris bawah dan atas dari kumpulan data "
   ]
  },
  {
   "cell_type": "code",
   "execution_count": 251,
   "id": "54044c32",
   "metadata": {},
   "outputs": [
    {
     "data": {
      "text/plain": [
       "(84548, 22)"
      ]
     },
     "execution_count": 251,
     "metadata": {},
     "output_type": "execute_result"
    }
   ],
   "source": [
    "df.shape#Mengetahui dimensi dari dataset"
   ]
  },
  {
   "cell_type": "code",
   "execution_count": 252,
   "id": "0a99233a",
   "metadata": {},
   "outputs": [
    {
     "data": {
      "text/plain": [
       "array(['Unnamed: 0', 'BOROUGH', 'NEIGHBORHOOD', 'BUILDING CLASS CATEGORY',\n",
       "       'TAX CLASS AT PRESENT', 'BLOCK', 'LOT', 'EASE-MENT',\n",
       "       'BUILDING CLASS AT PRESENT', 'ADDRESS', 'APARTMENT NUMBER',\n",
       "       'ZIP CODE', 'RESIDENTIAL UNITS', 'COMMERCIAL UNITS', 'TOTAL UNITS',\n",
       "       'LAND SQUARE FEET', 'GROSS SQUARE FEET', 'YEAR BUILT',\n",
       "       'TAX CLASS AT TIME OF SALE', 'BUILDING CLASS AT TIME OF SALE',\n",
       "       'SALE PRICE', 'SALE DATE'], dtype=object)"
      ]
     },
     "execution_count": 252,
     "metadata": {},
     "output_type": "execute_result"
    }
   ],
   "source": [
    "df.columns.values#Melihat nama-nama columns yang ada di dataset"
   ]
  },
  {
   "cell_type": "markdown",
   "id": "35e92bd1",
   "metadata": {},
   "source": [
    "Mengubah value pada BOROUGH menjadi sebuah string nama BOROUGH berdasarkan valuenya."
   ]
  },
  {
   "cell_type": "code",
   "execution_count": 254,
   "id": "590b398f",
   "metadata": {},
   "outputs": [],
   "source": [
    "df[\"BOROUGH\"].replace({1: \"Manhattan\", 2: \"Bronx\", 3: \"Brooklyn\", 4: \"Queens\", 5: \"Staten Island\"}, inplace=True)"
   ]
  },
  {
   "cell_type": "code",
   "execution_count": 255,
   "id": "0caa6fdb",
   "metadata": {},
   "outputs": [
    {
     "name": "stdout",
     "output_type": "stream",
     "text": [
      "<class 'pandas.core.frame.DataFrame'>\n",
      "RangeIndex: 84548 entries, 0 to 84547\n",
      "Data columns (total 22 columns):\n",
      " #   Column                          Non-Null Count  Dtype \n",
      "---  ------                          --------------  ----- \n",
      " 0   Unnamed: 0                      84548 non-null  int64 \n",
      " 1   BOROUGH                         84548 non-null  object\n",
      " 2   NEIGHBORHOOD                    84548 non-null  object\n",
      " 3   BUILDING CLASS CATEGORY         84548 non-null  object\n",
      " 4   TAX CLASS AT PRESENT            84548 non-null  object\n",
      " 5   BLOCK                           84548 non-null  int64 \n",
      " 6   LOT                             84548 non-null  int64 \n",
      " 7   EASE-MENT                       84548 non-null  object\n",
      " 8   BUILDING CLASS AT PRESENT       84548 non-null  object\n",
      " 9   ADDRESS                         84548 non-null  object\n",
      " 10  APARTMENT NUMBER                84548 non-null  object\n",
      " 11  ZIP CODE                        84548 non-null  int64 \n",
      " 12  RESIDENTIAL UNITS               84548 non-null  int64 \n",
      " 13  COMMERCIAL UNITS                84548 non-null  int64 \n",
      " 14  TOTAL UNITS                     84548 non-null  int64 \n",
      " 15  LAND SQUARE FEET                84548 non-null  object\n",
      " 16  GROSS SQUARE FEET               84548 non-null  object\n",
      " 17  YEAR BUILT                      84548 non-null  int64 \n",
      " 18  TAX CLASS AT TIME OF SALE       84548 non-null  int64 \n",
      " 19  BUILDING CLASS AT TIME OF SALE  84548 non-null  object\n",
      " 20  SALE PRICE                      84548 non-null  object\n",
      " 21  SALE DATE                       84548 non-null  object\n",
      "dtypes: int64(9), object(13)\n",
      "memory usage: 14.2+ MB\n"
     ]
    }
   ],
   "source": [
    "df.info()"
   ]
  },
  {
   "cell_type": "markdown",
   "id": "f0f34f9f",
   "metadata": {},
   "source": [
    "Menghapus kolom yang tidak diperlukan\n",
    "\n",
    "1. Kolom Unnamed: 0 sebagai iterator\n",
    "2. Kolom EASE-MENT tidak mengandung nilai yang dibutuhkan untuk analisis berikutnya"
   ]
  },
  {
   "cell_type": "code",
   "execution_count": 256,
   "id": "15afb6ec",
   "metadata": {},
   "outputs": [],
   "source": [
    "df.drop(columns=['Unnamed: 0', 'EASE-MENT'], inplace=True)"
   ]
  },
  {
   "cell_type": "code",
   "execution_count": 257,
   "id": "320a556e",
   "metadata": {},
   "outputs": [],
   "source": [
    "#Ubah type data menjadi string\n",
    "string = [\"BOROUGH\",\"NEIGHBORHOOD\",\"ADDRESS\",\"APARTMENT NUMBER\"]\n",
    "for col in string : \n",
    "    df[col] = df[col].astype(\"string\")"
   ]
  },
  {
   "cell_type": "code",
   "execution_count": 258,
   "id": "5ce17ad4",
   "metadata": {},
   "outputs": [],
   "source": [
    "#Ubah type data menjadi categorical\n",
    "categorical = [\"BUILDING CLASS CATEGORY\",\"TAX CLASS AT PRESENT\",\"BUILDING CLASS AT PRESENT\",\"BUILDING CLASS AT TIME OF SALE\"]\n",
    "\n",
    "for col in categorical: \n",
    "    df[col] = df[col].astype(\"category\")"
   ]
  },
  {
   "cell_type": "code",
   "execution_count": 259,
   "id": "3375a01a",
   "metadata": {},
   "outputs": [],
   "source": [
    "df['SALE DATE'] = pd.to_datetime(df['SALE DATE'], errors='coerce')"
   ]
  },
  {
   "cell_type": "code",
   "execution_count": 260,
   "id": "192102a5",
   "metadata": {},
   "outputs": [],
   "source": [
    "#Ubah Type data menjadi numeric\n",
    "numeric = [\"LAND SQUARE FEET\",\"GROSS SQUARE FEET\",\"SALE PRICE\" ]\n",
    "\n",
    "for col in numeric: \n",
    "    df[col] = pd.to_numeric(df[col], errors='coerce')"
   ]
  },
  {
   "cell_type": "code",
   "execution_count": 261,
   "id": "4a2c9d2f",
   "metadata": {},
   "outputs": [
    {
     "name": "stdout",
     "output_type": "stream",
     "text": [
      "<class 'pandas.core.frame.DataFrame'>\n",
      "RangeIndex: 84548 entries, 0 to 84547\n",
      "Data columns (total 20 columns):\n",
      " #   Column                          Non-Null Count  Dtype         \n",
      "---  ------                          --------------  -----         \n",
      " 0   BOROUGH                         84548 non-null  string        \n",
      " 1   NEIGHBORHOOD                    84548 non-null  string        \n",
      " 2   BUILDING CLASS CATEGORY         84548 non-null  category      \n",
      " 3   TAX CLASS AT PRESENT            84548 non-null  category      \n",
      " 4   BLOCK                           84548 non-null  int64         \n",
      " 5   LOT                             84548 non-null  int64         \n",
      " 6   BUILDING CLASS AT PRESENT       84548 non-null  category      \n",
      " 7   ADDRESS                         84548 non-null  string        \n",
      " 8   APARTMENT NUMBER                84548 non-null  string        \n",
      " 9   ZIP CODE                        84548 non-null  int64         \n",
      " 10  RESIDENTIAL UNITS               84548 non-null  int64         \n",
      " 11  COMMERCIAL UNITS                84548 non-null  int64         \n",
      " 12  TOTAL UNITS                     84548 non-null  int64         \n",
      " 13  LAND SQUARE FEET                58296 non-null  float64       \n",
      " 14  GROSS SQUARE FEET               56936 non-null  float64       \n",
      " 15  YEAR BUILT                      84548 non-null  int64         \n",
      " 16  TAX CLASS AT TIME OF SALE       84548 non-null  int64         \n",
      " 17  BUILDING CLASS AT TIME OF SALE  84548 non-null  category      \n",
      " 18  SALE PRICE                      69987 non-null  float64       \n",
      " 19  SALE DATE                       84548 non-null  datetime64[ns]\n",
      "dtypes: category(4), datetime64[ns](1), float64(3), int64(8), string(4)\n",
      "memory usage: 10.8 MB\n"
     ]
    }
   ],
   "source": [
    "df.info()"
   ]
  },
  {
   "cell_type": "markdown",
   "id": "c02cf405",
   "metadata": {},
   "source": [
    "Mengecek jumlah missing values pada setiap kolom"
   ]
  },
  {
   "cell_type": "code",
   "execution_count": 262,
   "id": "0c5a5106",
   "metadata": {},
   "outputs": [
    {
     "data": {
      "text/plain": [
       "BOROUGH                               0\n",
       "NEIGHBORHOOD                          0\n",
       "BUILDING CLASS CATEGORY               0\n",
       "TAX CLASS AT PRESENT                  0\n",
       "BLOCK                                 0\n",
       "LOT                                   0\n",
       "BUILDING CLASS AT PRESENT             0\n",
       "ADDRESS                               0\n",
       "APARTMENT NUMBER                      0\n",
       "ZIP CODE                              0\n",
       "RESIDENTIAL UNITS                     0\n",
       "COMMERCIAL UNITS                      0\n",
       "TOTAL UNITS                           0\n",
       "LAND SQUARE FEET                  26252\n",
       "GROSS SQUARE FEET                 27612\n",
       "YEAR BUILT                            0\n",
       "TAX CLASS AT TIME OF SALE             0\n",
       "BUILDING CLASS AT TIME OF SALE        0\n",
       "SALE PRICE                        14561\n",
       "SALE DATE                             0\n",
       "dtype: int64"
      ]
     },
     "execution_count": 262,
     "metadata": {},
     "output_type": "execute_result"
    }
   ],
   "source": [
    "df.isnull().sum()"
   ]
  },
  {
   "cell_type": "markdown",
   "id": "ebea0dd6",
   "metadata": {},
   "source": [
    "Dapat dilihat bahwa **LAND SQUARE FEET**,**GROSS SQUARE FEET** dan **SALE PRICE** memiliki nilai null"
   ]
  },
  {
   "cell_type": "code",
   "execution_count": 263,
   "id": "07971182",
   "metadata": {},
   "outputs": [],
   "source": [
    "df.dropna(inplace=True)# Menghapus nilai null"
   ]
  },
  {
   "cell_type": "code",
   "execution_count": 264,
   "id": "2f3d5740",
   "metadata": {},
   "outputs": [
    {
     "data": {
      "text/plain": [
       "BOROUGH                           0\n",
       "NEIGHBORHOOD                      0\n",
       "BUILDING CLASS CATEGORY           0\n",
       "TAX CLASS AT PRESENT              0\n",
       "BLOCK                             0\n",
       "LOT                               0\n",
       "BUILDING CLASS AT PRESENT         0\n",
       "ADDRESS                           0\n",
       "APARTMENT NUMBER                  0\n",
       "ZIP CODE                          0\n",
       "RESIDENTIAL UNITS                 0\n",
       "COMMERCIAL UNITS                  0\n",
       "TOTAL UNITS                       0\n",
       "LAND SQUARE FEET                  0\n",
       "GROSS SQUARE FEET                 0\n",
       "YEAR BUILT                        0\n",
       "TAX CLASS AT TIME OF SALE         0\n",
       "BUILDING CLASS AT TIME OF SALE    0\n",
       "SALE PRICE                        0\n",
       "SALE DATE                         0\n",
       "dtype: int64"
      ]
     },
     "execution_count": 264,
     "metadata": {},
     "output_type": "execute_result"
    }
   ],
   "source": [
    "df.isnull().sum()"
   ]
  },
  {
   "cell_type": "code",
   "execution_count": 265,
   "id": "99208422",
   "metadata": {},
   "outputs": [
    {
     "data": {
      "text/plain": [
       "(48244, 20)"
      ]
     },
     "execution_count": 265,
     "metadata": {},
     "output_type": "execute_result"
    }
   ],
   "source": [
    "df.shape"
   ]
  },
  {
   "cell_type": "code",
   "execution_count": 266,
   "metadata": {},
   "outputs": [
    {
     "data": {
      "text/plain": [
       "(29270, 20)"
      ]
     },
     "execution_count": 266,
     "metadata": {},
     "output_type": "execute_result"
    }
   ],
   "source": [
    "df_temp = df[\n",
    "    (df['TOTAL UNITS'] != 0) &\n",
    "    (df['LAND SQUARE FEET'] != 0) &\n",
    "    (df['GROSS SQUARE FEET'] != 0) &\n",
    "    (df['YEAR BUILT'] != 0) &\n",
    "    (df['SALE PRICE'] != 0) &\n",
    "    (df['ZIP CODE'] != 0)\n",
    "       ]\n",
    "df_temp.shape"
   ]
  },
  {
   "cell_type": "code",
   "execution_count": 267,
   "metadata": {},
   "outputs": [
    {
     "data": {
      "text/html": [
       "<div>\n",
       "<style scoped>\n",
       "    .dataframe tbody tr th:only-of-type {\n",
       "        vertical-align: middle;\n",
       "    }\n",
       "\n",
       "    .dataframe tbody tr th {\n",
       "        vertical-align: top;\n",
       "    }\n",
       "\n",
       "    .dataframe thead th {\n",
       "        text-align: right;\n",
       "    }\n",
       "</style>\n",
       "<table border=\"1\" class=\"dataframe\">\n",
       "  <thead>\n",
       "    <tr style=\"text-align: right;\">\n",
       "      <th></th>\n",
       "      <th>BLOCK</th>\n",
       "      <th>LOT</th>\n",
       "      <th>ZIP CODE</th>\n",
       "      <th>RESIDENTIAL UNITS</th>\n",
       "      <th>COMMERCIAL UNITS</th>\n",
       "      <th>TOTAL UNITS</th>\n",
       "      <th>LAND SQUARE FEET</th>\n",
       "      <th>GROSS SQUARE FEET</th>\n",
       "      <th>YEAR BUILT</th>\n",
       "      <th>TAX CLASS AT TIME OF SALE</th>\n",
       "      <th>SALE PRICE</th>\n",
       "    </tr>\n",
       "  </thead>\n",
       "  <tbody>\n",
       "    <tr>\n",
       "      <th>count</th>\n",
       "      <td>29270.00</td>\n",
       "      <td>29270.00</td>\n",
       "      <td>29270.00</td>\n",
       "      <td>29270.00</td>\n",
       "      <td>29270.00</td>\n",
       "      <td>29270.00</td>\n",
       "      <td>29270.00</td>\n",
       "      <td>29270.00</td>\n",
       "      <td>29270.00</td>\n",
       "      <td>29270.00</td>\n",
       "      <td>29270.00</td>\n",
       "    </tr>\n",
       "    <tr>\n",
       "      <th>mean</th>\n",
       "      <td>5550.71</td>\n",
       "      <td>61.18</td>\n",
       "      <td>10997.38</td>\n",
       "      <td>3.05</td>\n",
       "      <td>0.33</td>\n",
       "      <td>3.38</td>\n",
       "      <td>4204.05</td>\n",
       "      <td>4602.59</td>\n",
       "      <td>1940.69</td>\n",
       "      <td>1.23</td>\n",
       "      <td>1637125.19</td>\n",
       "    </tr>\n",
       "    <tr>\n",
       "      <th>std</th>\n",
       "      <td>3780.05</td>\n",
       "      <td>116.56</td>\n",
       "      <td>476.34</td>\n",
       "      <td>20.04</td>\n",
       "      <td>14.03</td>\n",
       "      <td>24.60</td>\n",
       "      <td>35486.74</td>\n",
       "      <td>34130.59</td>\n",
       "      <td>30.53</td>\n",
       "      <td>0.69</td>\n",
       "      <td>17011320.86</td>\n",
       "    </tr>\n",
       "    <tr>\n",
       "      <th>min</th>\n",
       "      <td>5.00</td>\n",
       "      <td>1.00</td>\n",
       "      <td>10001.00</td>\n",
       "      <td>0.00</td>\n",
       "      <td>0.00</td>\n",
       "      <td>1.00</td>\n",
       "      <td>200.00</td>\n",
       "      <td>120.00</td>\n",
       "      <td>1800.00</td>\n",
       "      <td>1.00</td>\n",
       "      <td>1.00</td>\n",
       "    </tr>\n",
       "    <tr>\n",
       "      <th>25%</th>\n",
       "      <td>2678.50</td>\n",
       "      <td>19.00</td>\n",
       "      <td>10462.00</td>\n",
       "      <td>1.00</td>\n",
       "      <td>0.00</td>\n",
       "      <td>1.00</td>\n",
       "      <td>2000.00</td>\n",
       "      <td>1360.00</td>\n",
       "      <td>1920.00</td>\n",
       "      <td>1.00</td>\n",
       "      <td>420000.00</td>\n",
       "    </tr>\n",
       "    <tr>\n",
       "      <th>50%</th>\n",
       "      <td>4903.00</td>\n",
       "      <td>38.00</td>\n",
       "      <td>11221.00</td>\n",
       "      <td>2.00</td>\n",
       "      <td>0.00</td>\n",
       "      <td>2.00</td>\n",
       "      <td>2500.00</td>\n",
       "      <td>1872.00</td>\n",
       "      <td>1930.00</td>\n",
       "      <td>1.00</td>\n",
       "      <td>620000.00</td>\n",
       "    </tr>\n",
       "    <tr>\n",
       "      <th>75%</th>\n",
       "      <td>7837.75</td>\n",
       "      <td>64.00</td>\n",
       "      <td>11373.00</td>\n",
       "      <td>2.00</td>\n",
       "      <td>0.00</td>\n",
       "      <td>2.00</td>\n",
       "      <td>4000.00</td>\n",
       "      <td>2672.00</td>\n",
       "      <td>1960.00</td>\n",
       "      <td>1.00</td>\n",
       "      <td>950000.00</td>\n",
       "    </tr>\n",
       "    <tr>\n",
       "      <th>max</th>\n",
       "      <td>16319.00</td>\n",
       "      <td>3710.00</td>\n",
       "      <td>11694.00</td>\n",
       "      <td>1844.00</td>\n",
       "      <td>2261.00</td>\n",
       "      <td>2261.00</td>\n",
       "      <td>4228300.00</td>\n",
       "      <td>3750565.00</td>\n",
       "      <td>2017.00</td>\n",
       "      <td>4.00</td>\n",
       "      <td>2210000000.00</td>\n",
       "    </tr>\n",
       "  </tbody>\n",
       "</table>\n",
       "</div>"
      ],
      "text/plain": [
       "         BLOCK      LOT  ZIP CODE  RESIDENTIAL UNITS  COMMERCIAL UNITS  \\\n",
       "count 29270.00 29270.00  29270.00           29270.00          29270.00   \n",
       "mean   5550.71    61.18  10997.38               3.05              0.33   \n",
       "std    3780.05   116.56    476.34              20.04             14.03   \n",
       "min       5.00     1.00  10001.00               0.00              0.00   \n",
       "25%    2678.50    19.00  10462.00               1.00              0.00   \n",
       "50%    4903.00    38.00  11221.00               2.00              0.00   \n",
       "75%    7837.75    64.00  11373.00               2.00              0.00   \n",
       "max   16319.00  3710.00  11694.00            1844.00           2261.00   \n",
       "\n",
       "       TOTAL UNITS  LAND SQUARE FEET  GROSS SQUARE FEET  YEAR BUILT  \\\n",
       "count     29270.00          29270.00           29270.00    29270.00   \n",
       "mean          3.38           4204.05            4602.59     1940.69   \n",
       "std          24.60          35486.74           34130.59       30.53   \n",
       "min           1.00            200.00             120.00     1800.00   \n",
       "25%           1.00           2000.00            1360.00     1920.00   \n",
       "50%           2.00           2500.00            1872.00     1930.00   \n",
       "75%           2.00           4000.00            2672.00     1960.00   \n",
       "max        2261.00        4228300.00         3750565.00     2017.00   \n",
       "\n",
       "       TAX CLASS AT TIME OF SALE    SALE PRICE  \n",
       "count                   29270.00      29270.00  \n",
       "mean                        1.23    1637125.19  \n",
       "std                         0.69   17011320.86  \n",
       "min                         1.00          1.00  \n",
       "25%                         1.00     420000.00  \n",
       "50%                         1.00     620000.00  \n",
       "75%                         1.00     950000.00  \n",
       "max                         4.00 2210000000.00  "
      ]
     },
     "execution_count": 267,
     "metadata": {},
     "output_type": "execute_result"
    }
   ],
   "source": [
    "df = df_temp\n",
    "df.describe()"
   ]
  },
  {
   "cell_type": "markdown",
   "id": "7dfd9562",
   "metadata": {
    "id": "7dfd9562"
   },
   "source": [
    "---\n",
    "# A. Measure of Central Tendency : Mean\n",
    "\n",
    "Mean adalah nilai rata-rata dari suatu bilangan. Selain itu, arti mean dapat bermakna juga untuk mengetahui jumlah seluruh data dengan membaginya sesuai jumlah datanya."
   ]
  },
  {
   "cell_type": "markdown",
   "id": "751da51c",
   "metadata": {},
   "source": [
    "### Pertanyaan : Berapakah harga jual rata-rata properti berdasarkan Kategori kelas bangunan ? "
   ]
  },
  {
   "cell_type": "code",
   "execution_count": 268,
   "id": "5a6eda4c",
   "metadata": {},
   "outputs": [
    {
     "data": {
      "text/html": [
       "<div>\n",
       "<style scoped>\n",
       "    .dataframe tbody tr th:only-of-type {\n",
       "        vertical-align: middle;\n",
       "    }\n",
       "\n",
       "    .dataframe tbody tr th {\n",
       "        vertical-align: top;\n",
       "    }\n",
       "\n",
       "    .dataframe thead th {\n",
       "        text-align: right;\n",
       "    }\n",
       "</style>\n",
       "<table border=\"1\" class=\"dataframe\">\n",
       "  <thead>\n",
       "    <tr style=\"text-align: right;\">\n",
       "      <th></th>\n",
       "      <th>MEAN SALE PRICE</th>\n",
       "    </tr>\n",
       "    <tr>\n",
       "      <th>BUILDING CLASS CATEGORY</th>\n",
       "      <th></th>\n",
       "    </tr>\n",
       "  </thead>\n",
       "  <tbody>\n",
       "    <tr>\n",
       "      <th>25 LUXURY HOTELS</th>\n",
       "      <td>142377525.00</td>\n",
       "    </tr>\n",
       "    <tr>\n",
       "      <th>11A CONDO-RENTALS</th>\n",
       "      <td>56673185.25</td>\n",
       "    </tr>\n",
       "    <tr>\n",
       "      <th>31 COMMERCIAL VACANT LAND</th>\n",
       "      <td>41825000.00</td>\n",
       "    </tr>\n",
       "    <tr>\n",
       "      <th>21 OFFICE BUILDINGS</th>\n",
       "      <td>39050651.85</td>\n",
       "    </tr>\n",
       "    <tr>\n",
       "      <th>34 THEATRES</th>\n",
       "      <td>23937500.00</td>\n",
       "    </tr>\n",
       "  </tbody>\n",
       "</table>\n",
       "</div>"
      ],
      "text/plain": [
       "                                              MEAN SALE PRICE\n",
       "BUILDING CLASS CATEGORY                                      \n",
       "25 LUXURY HOTELS                                 142377525.00\n",
       "11A CONDO-RENTALS                                 56673185.25\n",
       "31 COMMERCIAL VACANT LAND                         41825000.00\n",
       "21 OFFICE BUILDINGS                               39050651.85\n",
       "34 THEATRES                                       23937500.00"
      ]
     },
     "execution_count": 268,
     "metadata": {},
     "output_type": "execute_result"
    }
   ],
   "source": [
    "df_mean = df.pivot_table(\n",
    "    index='BUILDING CLASS CATEGORY', \n",
    "    values='SALE PRICE', \n",
    "    aggfunc=np.mean\n",
    ")\n",
    "\n",
    "#Mengganti nama kolom 'SALE PRICE' menjadi 'MEAN SALE PRICE'\n",
    "df_mean.rename(columns={'SALE PRICE':'MEAN SALE PRICE'}, inplace=True)\n",
    "\n",
    "#Mengurutkan berdasarkan kolom 'MEAN SALE PRICE'\n",
    "df_mean.sort_values('MEAN SALE PRICE', ascending=False, inplace=True)\n",
    "df_mean.head()"
   ]
  },
  {
   "cell_type": "markdown",
   "id": "9d4a2590",
   "metadata": {},
   "source": [
    "**Conclusion**\n",
    "\n",
    "Berdasarkan hasil diatas dapat dilihat bahwa Kelas bangunan 25 LUXURY HOTEL memiliki rata-rata harga tertinggi yaitu sebesar **142,377,500 USD DOLLAR** dan 34 THEATRES  memiliki rata-rata , yaitu sebesar **23,937,500 USD DOLLAR**"
   ]
  },
  {
   "cell_type": "markdown",
   "metadata": {},
   "source": [
    "---\n",
    "# B. Measure of Central Tendency : Median\n",
    "\n",
    "Median dapat bermakna untuk menemukan nilai tengah-tengah dari sekumpulan bilangan"
   ]
  },
  {
   "cell_type": "markdown",
   "metadata": {},
   "source": [
    "### Pertanyaan : Berapakah median dari harga jual properti yang terdapat pada 5 kategori kelas bangunan teratas ?"
   ]
  },
  {
   "cell_type": "code",
   "execution_count": 269,
   "metadata": {},
   "outputs": [
    {
     "data": {
      "text/plain": [
       "BUILDING CLASS CATEGORY\n",
       "25 LUXURY HOTELS                               133917650.00\n",
       "31 COMMERCIAL VACANT LAND                       41825000.00\n",
       "11A CONDO-RENTALS                               32148370.50\n",
       "34 THEATRES                                     29250000.00\n",
       "08 RENTALS - ELEVATOR APARTMENTS                14200000.00\n",
       "23 LOFT BUILDINGS                                9374578.00\n",
       "40 SELECTED GOVERNMENTAL FACILITIES              8000000.50\n",
       "32 HOSPITAL AND HEALTH FACILITIES                5028750.00\n",
       "36 OUTDOOR RECREATIONAL FACILITIES               5000000.00\n",
       "38 ASYLUMS AND HOMES                             4874798.00\n",
       "27 FACTORIES                                     2750000.00\n",
       "21 OFFICE BUILDINGS                              2600000.00\n",
       "30 WAREHOUSES                                    2164500.00\n",
       "33 EDUCATIONAL FACILITIES                        1800000.00\n",
       "22 STORE BUILDINGS                               1607500.00\n",
       "37 RELIGIOUS FACILITIES                          1600000.00\n",
       "07 RENTALS - WALKUP APARTMENTS                   1550000.00\n",
       "14 RENTALS - 4-10 UNIT                           1388500.00\n",
       "29 COMMERCIAL GARAGES                            1369000.00\n",
       "41 TAX CLASS 4 - OTHER                           1100000.00\n",
       "35 INDOOR PUBLIC AND CULTURAL FACILITIES          950000.00\n",
       "03 THREE FAMILY DWELLINGS                         775000.00\n",
       "02 TWO FAMILY DWELLINGS                           650000.00\n",
       "05 TAX CLASS 1 VACANT LAND                        589245.00\n",
       "01 ONE FAMILY DWELLINGS                           500000.00\n",
       "06 TAX CLASS 1 - OTHER                            252000.00\n",
       "09 COOPS - WALKUP APARTMENTS                      227500.00\n",
       "10 COOPS - ELEVATOR APARTMENTS                    195000.00\n",
       "26 OTHER HOTELS                                    53910.00\n",
       "04 TAX CLASS 1 CONDOS                                   NaN\n",
       "11 SPECIAL CONDO BILLING LOTS                           NaN\n",
       "12 CONDOS - WALKUP APARTMENTS                           NaN\n",
       "13 CONDOS - ELEVATOR APARTMENTS                         NaN\n",
       "15 CONDOS - 2-10 UNIT RESIDENTIAL                       NaN\n",
       "16 CONDOS - 2-10 UNIT WITH COMMERCIAL UNIT              NaN\n",
       "17 CONDO COOPS                                          NaN\n",
       "18 TAX CLASS 3 - UNTILITY PROPERTIES                    NaN\n",
       "28 COMMERCIAL CONDOS                                    NaN\n",
       "39 TRANSPORTATION FACILITIES                            NaN\n",
       "42 CONDO CULTURAL/MEDICAL/EDUCATIONAL/ETC               NaN\n",
       "43 CONDO OFFICE BUILDINGS                               NaN\n",
       "44 CONDO PARKING                                        NaN\n",
       "45 CONDO HOTELS                                         NaN\n",
       "46 CONDO STORE BUILDINGS                                NaN\n",
       "47 CONDO NON-BUSINESS STORAGE                           NaN\n",
       "48 CONDO TERRACES/GARDENS/CABANAS                       NaN\n",
       "49 CONDO WAREHOUSES/FACTORY/INDUS                       NaN\n",
       "Name: SALE PRICE, dtype: float64"
      ]
     },
     "execution_count": 269,
     "metadata": {},
     "output_type": "execute_result"
    }
   ],
   "source": [
    "pd.set_option('display.float_format', lambda x: '%.2f' % x)\n",
    "# Mencari median harga jual berdasarkan kelas bangunan\n",
    "df.groupby(\"BUILDING CLASS CATEGORY\").agg(\"median\")[\"SALE PRICE\"].sort_values(ascending=False)"
   ]
  },
  {
   "cell_type": "markdown",
   "metadata": {},
   "source": [
    "**Conclusion**\n",
    "\n",
    "Dari hasil tersebut dapat dilihat bahwa 5 kategori bangunan yang memiliki nilai median teratas yaitu :\n",
    "1. 25 LUXURY HOTELS dengan Median **133917650.00 USD Dollar**.\n",
    "2. 31 COMMERCIAL VACANT LAND dengan Median **41825000.00 USD Dollar**.\n",
    "3. 11A CONDO-RENTALS dengan Median **133917650.00 USD Dollar**.\n",
    "4. 34 THEATRES dengan Median **29250000.00 USD Dollar**.\n",
    "5. 08 RENTALS - ELEVATOR APARTMENTS dengan Median **14200000.00 USD Dollar**.\n"
   ]
  },
  {
   "cell_type": "markdown",
   "metadata": {},
   "source": [
    "---\n",
    "# C. Measure of Central Tendency : Mode\n",
    "\n",
    "Mode atau Modus digunakan untuk mengetahui bilangan atau kata yang paling banyak muncul. "
   ]
  },
  {
   "cell_type": "markdown",
   "metadata": {},
   "source": [
    "### Pertanyaan : Bangunan yang beralamat dimanakah yang paling sering terjual disetiap wilayah  ?"
   ]
  },
  {
   "cell_type": "code",
   "execution_count": 288,
   "metadata": {},
   "outputs": [
    {
     "name": "stderr",
     "output_type": "stream",
     "text": [
      "c:\\Users\\acer\\AppData\\Local\\Programs\\Python\\Python310\\lib\\site-packages\\pandas\\core\\groupby\\groupby.py:1476: FutureWarning: Unlike other reduction functions (e.g. `skew`, `kurtosis`), the default behavior of `mode` typically preserves the axis it acts along. In SciPy 1.11.0, this behavior will change: the default value of `keepdims` will become False, the `axis` over which the statistic is taken will be eliminated, and the value None will no longer be accepted. Set `keepdims` to True or False to avoid this warning.\n",
      "  f = lambda x: func(x, *args, **kwargs)\n",
      "c:\\Users\\acer\\AppData\\Local\\Programs\\Python\\Python310\\lib\\site-packages\\scipy\\stats\\_stats_py.py:110: RuntimeWarning: The input array could not be properly checked for nan values. nan values will be ignored.\n",
      "  warnings.warn(\"The input array could not be properly \"\n"
     ]
    }
   ],
   "source": [
    "#Membuat pivot table dengan index 'BOROUGH', values 'ADDRESS' dan aggfunc=stats.mode dimana stats.mode ini akan mencari modus \n",
    "df_mode = df.pivot_table(\n",
    "    index='BOROUGH', \n",
    "    values='ADDRESS', \n",
    "    aggfunc= stats.mode\n",
    ")\n",
    "\n",
    "#Rename kolom 'ADDRESS' menjadi 'MOST ADDRESS'\n",
    "df_mode.rename(columns={'ADDRESS':'MOST ADDRESS'}, inplace=True)"
   ]
  },
  {
   "cell_type": "code",
   "execution_count": 289,
   "metadata": {},
   "outputs": [
    {
     "data": {
      "text/html": [
       "<div>\n",
       "<style scoped>\n",
       "    .dataframe tbody tr th:only-of-type {\n",
       "        vertical-align: middle;\n",
       "    }\n",
       "\n",
       "    .dataframe tbody tr th {\n",
       "        vertical-align: top;\n",
       "    }\n",
       "\n",
       "    .dataframe thead th {\n",
       "        text-align: right;\n",
       "    }\n",
       "</style>\n",
       "<table border=\"1\" class=\"dataframe\">\n",
       "  <thead>\n",
       "    <tr style=\"text-align: right;\">\n",
       "      <th></th>\n",
       "      <th>MOST ADDRESS</th>\n",
       "    </tr>\n",
       "    <tr>\n",
       "      <th>BOROUGH</th>\n",
       "      <th></th>\n",
       "    </tr>\n",
       "  </thead>\n",
       "  <tbody>\n",
       "    <tr>\n",
       "      <th>Bronx</th>\n",
       "      <td>([3313 WILSON AVENUE], [4])</td>\n",
       "    </tr>\n",
       "    <tr>\n",
       "      <th>Brooklyn</th>\n",
       "      <td>([569 MADISON STREET], [8])</td>\n",
       "    </tr>\n",
       "    <tr>\n",
       "      <th>Manhattan</th>\n",
       "      <td>([102 WEST 57TH STREET], [58])</td>\n",
       "    </tr>\n",
       "    <tr>\n",
       "      <th>Queens</th>\n",
       "      <td>([30-80 42ND STREET], [6])</td>\n",
       "    </tr>\n",
       "    <tr>\n",
       "      <th>Staten Island</th>\n",
       "      <td>([15 MORRIS PLACE], [3])</td>\n",
       "    </tr>\n",
       "  </tbody>\n",
       "</table>\n",
       "</div>"
      ],
      "text/plain": [
       "                                 MOST ADDRESS\n",
       "BOROUGH                                      \n",
       "Bronx             ([3313 WILSON AVENUE], [4])\n",
       "Brooklyn          ([569 MADISON STREET], [8])\n",
       "Manhattan      ([102 WEST 57TH STREET], [58])\n",
       "Queens             ([30-80 42ND STREET], [6])\n",
       "Staten Island        ([15 MORRIS PLACE], [3])"
      ]
     },
     "execution_count": 289,
     "metadata": {},
     "output_type": "execute_result"
    }
   ],
   "source": [
    "df_mode"
   ]
  },
  {
   "cell_type": "code",
   "execution_count": 290,
   "metadata": {},
   "outputs": [
    {
     "data": {
      "text/html": [
       "<div>\n",
       "<style scoped>\n",
       "    .dataframe tbody tr th:only-of-type {\n",
       "        vertical-align: middle;\n",
       "    }\n",
       "\n",
       "    .dataframe tbody tr th {\n",
       "        vertical-align: top;\n",
       "    }\n",
       "\n",
       "    .dataframe thead th {\n",
       "        text-align: right;\n",
       "    }\n",
       "</style>\n",
       "<table border=\"1\" class=\"dataframe\">\n",
       "  <thead>\n",
       "    <tr style=\"text-align: right;\">\n",
       "      <th></th>\n",
       "      <th>MOST ADDRESS</th>\n",
       "    </tr>\n",
       "    <tr>\n",
       "      <th>BOROUGH</th>\n",
       "      <th></th>\n",
       "    </tr>\n",
       "  </thead>\n",
       "  <tbody>\n",
       "    <tr>\n",
       "      <th>Brooklyn</th>\n",
       "      <td>([569 MADISON STREET], [8])</td>\n",
       "    </tr>\n",
       "    <tr>\n",
       "      <th>Bronx</th>\n",
       "      <td>([3313 WILSON AVENUE], [4])</td>\n",
       "    </tr>\n",
       "    <tr>\n",
       "      <th>Queens</th>\n",
       "      <td>([30-80 42ND STREET], [6])</td>\n",
       "    </tr>\n",
       "    <tr>\n",
       "      <th>Staten Island</th>\n",
       "      <td>([15 MORRIS PLACE], [3])</td>\n",
       "    </tr>\n",
       "    <tr>\n",
       "      <th>Manhattan</th>\n",
       "      <td>([102 WEST 57TH STREET], [58])</td>\n",
       "    </tr>\n",
       "  </tbody>\n",
       "</table>\n",
       "</div>"
      ],
      "text/plain": [
       "                                 MOST ADDRESS\n",
       "BOROUGH                                      \n",
       "Brooklyn          ([569 MADISON STREET], [8])\n",
       "Bronx             ([3313 WILSON AVENUE], [4])\n",
       "Queens             ([30-80 42ND STREET], [6])\n",
       "Staten Island        ([15 MORRIS PLACE], [3])\n",
       "Manhattan      ([102 WEST 57TH STREET], [58])"
      ]
     },
     "execution_count": 290,
     "metadata": {},
     "output_type": "execute_result"
    }
   ],
   "source": [
    "df_mode.sort_values('MOST ADDRESS', ascending=False, inplace=True)       \n",
    "df_mode.head()"
   ]
  },
  {
   "cell_type": "markdown",
   "metadata": {},
   "source": [
    "**Conclusion**\n",
    "\n",
    "Dapat dilihat bahwa pada Wilayah Brooklyn alamat yang paling sering dibeli atau terjual adalah 569 MADISON STREET dan posisi kedua yaitu pada wilayah Bronx pada alamat 3313 WILSON AVENUE."
   ]
  },
  {
   "cell_type": "markdown",
   "metadata": {},
   "source": [
    "---\n",
    "# D. Measure of Spread : Range\n",
    "\n",
    "Range atau disebut juga dengan jangkauan adalah selisih antara data dengan nilai yang terbesar dengan data dengan nilai yang terkecil tersebut. "
   ]
  },
  {
   "cell_type": "markdown",
   "metadata": {},
   "source": [
    "### Pertanyaan : Berapakah Range harga properti di lingkungan **FINANCIAL** ? "
   ]
  },
  {
   "cell_type": "code",
   "execution_count": 291,
   "metadata": {},
   "outputs": [
    {
     "name": "stdout",
     "output_type": "stream",
     "text": [
      "Min: 3288000.0\n",
      "Max: 1040000000.0\n",
      "Rentang harga: 1036712000.0\n"
     ]
    }
   ],
   "source": [
    "pd.set_option('display.float_format', lambda x: '%.2f' % x)\n",
    "mask = df[\"NEIGHBORHOOD\"] == \"FINANCIAL\"\n",
    "print(f\"Min: {df[mask]['SALE PRICE'].min()}\")\n",
    "print(f\"Max: {df[mask]['SALE PRICE'].max()}\")\n",
    "print(f\"Rentang harga: {df[mask]['SALE PRICE'].max() - df[mask]['SALE PRICE'].min()}\")\n"
   ]
  },
  {
   "cell_type": "markdown",
   "metadata": {},
   "source": [
    "**Conclusion**\n",
    "\n",
    "Dapat dilihat bahwa range harga properti yang ada dilingkungan FINANCIAL yaitu 1.036.712.000 US DOLLAR\n"
   ]
  },
  {
   "cell_type": "markdown",
   "metadata": {},
   "source": [
    "---\n",
    "# E. Measure of Spread : Variance\n",
    "\n",
    "Varians merupakan jumlah kuadrat semua deviasi nilai-nilai individual terhadap rata-rata kelompok."
   ]
  },
  {
   "cell_type": "markdown",
   "metadata": {},
   "source": [
    "Pertanyaan : Berapa nilai variance dari luas tanah di daerah FINANCIAL"
   ]
  },
  {
   "cell_type": "code",
   "execution_count": 292,
   "metadata": {},
   "outputs": [
    {
     "data": {
      "text/plain": [
       "273892186.6545454"
      ]
     },
     "execution_count": 292,
     "metadata": {},
     "output_type": "execute_result"
    }
   ],
   "source": [
    "pd.set_option('display.float_format', lambda x: '%.2f' % x)\n",
    "mask = df[\"NEIGHBORHOOD\"] == \"FINANCIAL\"\n",
    "# Mencari nilai variance\n",
    "df[mask][\"LAND SQUARE FEET\"].var()"
   ]
  },
  {
   "cell_type": "markdown",
   "metadata": {},
   "source": [
    "**Conclusion**\n",
    "\n",
    "variance dari Luas luas tanah di daerah FINANCIAL adalah 27,389,218,67"
   ]
  },
  {
   "cell_type": "markdown",
   "metadata": {},
   "source": [
    "---\n",
    "# F. Measure of Spread : Standard Deviation\n",
    "\n",
    "Standar deviasi adalah nilai statistik yang digunakan untuk menentukan seberapa dekat data dari sampel statistik dengan data rata-rata data tersebut. "
   ]
  },
  {
   "cell_type": "markdown",
   "metadata": {},
   "source": [
    "### Pertanyaan : Berapa standar deviasi harga jual tertinggi dengan terendah properti berdasarkan Borough?\n"
   ]
  },
  {
   "cell_type": "code",
   "execution_count": 293,
   "metadata": {},
   "outputs": [],
   "source": [
    "df_de = df.copy()"
   ]
  },
  {
   "cell_type": "code",
   "execution_count": 294,
   "metadata": {},
   "outputs": [
    {
     "data": {
      "text/html": [
       "<div>\n",
       "<style scoped>\n",
       "    .dataframe tbody tr th:only-of-type {\n",
       "        vertical-align: middle;\n",
       "    }\n",
       "\n",
       "    .dataframe tbody tr th {\n",
       "        vertical-align: top;\n",
       "    }\n",
       "\n",
       "    .dataframe thead th {\n",
       "        text-align: right;\n",
       "    }\n",
       "</style>\n",
       "<table border=\"1\" class=\"dataframe\">\n",
       "  <thead>\n",
       "    <tr style=\"text-align: right;\">\n",
       "      <th></th>\n",
       "      <th>BOROUGH</th>\n",
       "      <th>SALE PRICE</th>\n",
       "    </tr>\n",
       "  </thead>\n",
       "  <tbody>\n",
       "    <tr>\n",
       "      <th>0</th>\n",
       "      <td>Bronx</td>\n",
       "      <td>3802718.35</td>\n",
       "    </tr>\n",
       "    <tr>\n",
       "      <th>1</th>\n",
       "      <td>Brooklyn</td>\n",
       "      <td>4726343.12</td>\n",
       "    </tr>\n",
       "    <tr>\n",
       "      <th>2</th>\n",
       "      <td>Manhattan</td>\n",
       "      <td>88022896.22</td>\n",
       "    </tr>\n",
       "    <tr>\n",
       "      <th>3</th>\n",
       "      <td>Queens</td>\n",
       "      <td>3719433.86</td>\n",
       "    </tr>\n",
       "    <tr>\n",
       "      <th>4</th>\n",
       "      <td>Staten Island</td>\n",
       "      <td>466770.03</td>\n",
       "    </tr>\n",
       "  </tbody>\n",
       "</table>\n",
       "</div>"
      ],
      "text/plain": [
       "         BOROUGH  SALE PRICE\n",
       "0          Bronx  3802718.35\n",
       "1       Brooklyn  4726343.12\n",
       "2      Manhattan 88022896.22\n",
       "3         Queens  3719433.86\n",
       "4  Staten Island   466770.03"
      ]
     },
     "execution_count": 294,
     "metadata": {},
     "output_type": "execute_result"
    }
   ],
   "source": [
    "std_df = df_de.groupby(['BOROUGH'])['SALE PRICE'].std().reset_index()\n",
    "std_df"
   ]
  },
  {
   "cell_type": "markdown",
   "metadata": {},
   "source": [
    "**Conclusion**\n",
    "\n",
    "Dapat dilihat bahwa standard deviation dari BOROUGH yaitu :\n",
    "1. Manhattan\t88022896.22 US DOLLAR\n",
    "2. Bronx\t3802718.35 US DOLLAR\n",
    "3. Brooklyn\t4726343.12 US DOLLAR\n",
    "4. Staten Island\t466770.03 US DOLLAR\n",
    "5. Queens\t3719433.86 US DOLLAR"
   ]
  },
  {
   "cell_type": "markdown",
   "metadata": {},
   "source": [
    "---\n",
    "# G. Probability Distributions"
   ]
  },
  {
   "cell_type": "markdown",
   "metadata": {},
   "source": [
    "### Pertanyaan : Bagaimana distribusi harga jual di lingkungan FINANCIAL?"
   ]
  },
  {
   "cell_type": "code",
   "execution_count": 295,
   "metadata": {},
   "outputs": [
    {
     "data": {
      "text/plain": [
       "273892186.6545454"
      ]
     },
     "execution_count": 295,
     "metadata": {},
     "output_type": "execute_result"
    }
   ],
   "source": [
    "pd.set_option('display.float_format', lambda x: '%.2f' % x)\n",
    "mask = df[\"NEIGHBORHOOD\"] == \"FINANCIAL\"\n",
    "# Mencari nilai variance\n",
    "df[mask][\"LAND SQUARE FEET\"].var()"
   ]
  },
  {
   "cell_type": "code",
   "execution_count": 296,
   "metadata": {},
   "outputs": [
    {
     "name": "stderr",
     "output_type": "stream",
     "text": [
      "C:\\Users\\acer\\AppData\\Local\\Temp\\ipykernel_3052\\535769151.py:2: UserWarning: \n",
      "\n",
      "`distplot` is a deprecated function and will be removed in seaborn v0.14.0.\n",
      "\n",
      "Please adapt your code to use either `displot` (a figure-level function with\n",
      "similar flexibility) or `histplot` (an axes-level function for histograms).\n",
      "\n",
      "For a guide to updating your code to use the new functions, please see\n",
      "https://gist.github.com/mwaskom/de44147ed2974457ad6372750bbe5751\n",
      "\n",
      "  sns.distplot(df[mask][\"SALE PRICE\"], kde=True, color='blue')\n"
     ]
    },
    {
     "data": {
      "image/png": "[encoded data removed]",
      "text/plain": [
       "<Figure size 1200x800 with 1 Axes>"
      ]
     },
     "metadata": {},
     "output_type": "display_data"
    }
   ],
   "source": [
    "plt.figure(figsize=(12,8))\n",
    "sns.distplot(df[mask][\"SALE PRICE\"], kde=True, color='blue')\n",
    "plt.title(\"Probability Density Function (SALE PRICE)\", fontsize=15);"
   ]
  },
  {
   "cell_type": "markdown",
   "metadata": {},
   "source": [
    "**Conclusion**\n",
    "\n",
    "Dapat dilihat bahwa tingkat ketidaksimetrisan atau Skewness  lebih condong ke arah kiri artinya distribusi tidak normal yaitu terdapat harga jual yang jauh dari rata-rata.Karena distribusi dinyatakan tidak normal maka kita akan melakukan Central Limit Theorem untuk membuat distribusi data kita menjadi normal."
   ]
  },
  {
   "cell_type": "markdown",
   "metadata": {},
   "source": [
    "### Central Limit Theorem"
   ]
  },
  {
   "cell_type": "code",
   "execution_count": 297,
   "metadata": {},
   "outputs": [],
   "source": [
    "# Mengambil sejumlah 1000 sample mean dari sejumlah 100 nilai acak.\n",
    "r = 100\n",
    "s = 1000\n",
    "sample_mean = []\n",
    "for i in range(s):\n",
    "    sample = np.random.choice(a=df[mask][\"SALE PRICE\"], size=r)\n",
    "    sample_mean.append(np.mean(sample))"
   ]
  },
  {
   "cell_type": "code",
   "execution_count": 298,
   "metadata": {},
   "outputs": [
    {
     "name": "stderr",
     "output_type": "stream",
     "text": [
      "C:\\Users\\acer\\AppData\\Local\\Temp\\ipykernel_3052\\2614992155.py:3: UserWarning: \n",
      "\n",
      "`distplot` is a deprecated function and will be removed in seaborn v0.14.0.\n",
      "\n",
      "Please adapt your code to use either `displot` (a figure-level function with\n",
      "similar flexibility) or `histplot` (an axes-level function for histograms).\n",
      "\n",
      "For a guide to updating your code to use the new functions, please see\n",
      "https://gist.github.com/mwaskom/de44147ed2974457ad6372750bbe5751\n",
      "\n",
      "  sns.distplot(sample_mean, kde=True, color='blue')\n"
     ]
    },
    {
     "data": {
      "image/png": "[encoded data removed]",
      "text/plain": [
       "<Figure size 1200x800 with 1 Axes>"
      ]
     },
     "metadata": {},
     "output_type": "display_data"
    }
   ],
   "source": [
    "bin_edges = np.histogram(sample_mean)[1]\n",
    "plt.figure(figsize=(12,8))\n",
    "sns.distplot(sample_mean, kde=True, color='blue')\n",
    "plt.title('Sample Mean Distribution', fontsize=15)\n",
    "plt.xticks(np.round(bin_edges, 2))\n",
    "plt.xlabel(\"Mean SALE PRICE\");"
   ]
  },
  {
   "cell_type": "markdown",
   "metadata": {},
   "source": [
    "Dapat dilihat data yang kita punya sudah berdistribusi normal."
   ]
  },
  {
   "cell_type": "markdown",
   "metadata": {},
   "source": [
    "---\n",
    "# H. Confidence Intervals\n",
    "\n",
    "Tingkat kepercayaan (confidence level) adalah ukuran percayaan dari sebuah pengujian selang kepercayaan"
   ]
  },
  {
   "cell_type": "markdown",
   "metadata": {},
   "source": [
    "### Pertanyaan : Berapakah confidence intervals harga properti di lingkungan FINANCIAL?"
   ]
  },
  {
   "cell_type": "code",
   "execution_count": 299,
   "metadata": {},
   "outputs": [
    {
     "name": "stdout",
     "output_type": "stream",
     "text": [
      "Mean: 238629745.34742\n",
      "Median: 239207349.76999998\n",
      "Standard Deviation: 30763283.148084797\n",
      "Standard Error: 3076328.3148084795\n",
      "Z-Score: 1.96\n"
     ]
    }
   ],
   "source": [
    "mean_sampling = np.mean(sample_mean)\n",
    "median_sampling = np.median(sample_mean)\n",
    "std_sampling = np.std(sample_mean)\n",
    "std_error = std_sampling/np.sqrt(r)\n",
    "z_score = 1.96\n",
    "\n",
    "\n",
    "print(f\"Mean: {mean_sampling}\")\n",
    "print(f\"Median: {median_sampling}\")\n",
    "print(f\"Standard Deviation: {std_sampling}\")\n",
    "print(f\"Standard Error: {std_error}\")\n",
    "print(f\"Z-Score: {z_score}\")"
   ]
  },
  {
   "cell_type": "code",
   "execution_count": 300,
   "metadata": {},
   "outputs": [
    {
     "name": "stdout",
     "output_type": "stream",
     "text": [
      "232600141.85039538 < x < 244659348.84444463\n"
     ]
    }
   ],
   "source": [
    "#Mencari CI\n",
    "lower = mean_sampling - (z_score * std_error)\n",
    "upper = mean_sampling + (z_score * std_error)\n",
    "\n",
    "print(f\"{lower} < x < {upper}\")"
   ]
  },
  {
   "cell_type": "markdown",
   "metadata": {},
   "source": [
    "**Conclusion**\n",
    "\n",
    "Dapat dilihat bahwa kita telah mendapatkan nilai batas bawah sebesar  dan batas atas sebesar 233,528,600 US DOLLAR dan batas atas sebesar 245,299,120 US DOLLAR"
   ]
  },
  {
   "cell_type": "markdown",
   "metadata": {},
   "source": [
    "---\n",
    "# I. Hypothesis Testing"
   ]
  },
  {
   "cell_type": "markdown",
   "metadata": {},
   "source": [
    "### Pertanyaan : Apakah harga jual rata-rata properti di Lingkungan FINANCIAL lebih tinggi daripada di ALPHABET CITY ?"
   ]
  },
  {
   "cell_type": "code",
   "execution_count": 303,
   "metadata": {},
   "outputs": [
    {
     "name": "stdout",
     "output_type": "stream",
     "text": [
      "Average selling price in FINANCIAL: 239222666.55\n",
      "Average selling price in ALPHABET CITY:  7200101.09\n"
     ]
    }
   ],
   "source": [
    "df_sp_man = df[df['NEIGHBORHOOD'] == 'FINANCIAL']['SALE PRICE'].dropna()\n",
    "df_sp_bro = df[df['NEIGHBORHOOD'] == 'ALPHABET CITY']['SALE PRICE'].dropna()\n",
    "\n",
    "print('Average selling price in FINANCIAL:', '%10.2f' % (round(df_sp_man.mean(), 2)))\n",
    "print('Average selling price in ALPHABET CITY: ', '%10.2f' % (round(df_sp_bro.mean(), 2)))"
   ]
  },
  {
   "cell_type": "code",
   "execution_count": 304,
   "metadata": {},
   "outputs": [
    {
     "name": "stdout",
     "output_type": "stream",
     "text": [
      "2.3937477685759294 0.008338606555526974\n",
      "Tolak hipotesis nol\n"
     ]
    }
   ],
   "source": [
    "ztest, pval = sm.stats.ztest(df_sp_man, value=df_sp_bro.mean(), alternative='larger')\n",
    "print(ztest, pval)\n",
    "\n",
    "if pval < 0.05:\n",
    "    print('Tolak hipotesis nol')\n",
    "else:\n",
    "    print('Terima hipotesis nol')"
   ]
  },
  {
   "cell_type": "markdown",
   "metadata": {},
   "source": [
    "**Conclusion**\n",
    "\n",
    "Karena nilai p yang dihitung dari uji-z lebih rendah dari tingkat kepercayaan standar, yaitu 0,05, kita dapat menolak hipotesis nol bahwa harga jual rata-rata properti di FINANCIAL sama dengan ALPHABET CITY.Hal ini dibuktikan dengan harga jual properti rata-rata di FINANCIAL lebih tinggi daripada di ALPHABET CITY.\n",
    "\n"
   ]
  },
  {
   "cell_type": "markdown",
   "metadata": {},
   "source": [
    "# Overall Analysis"
   ]
  },
  {
   "cell_type": "markdown",
   "metadata": {},
   "source": [
    "1. 25 LUXURY HOTEL memiliki harga jual rata-rata tertinggi yaitu sebesar **142,377,500 USD DOLLAR** berdasarkan kategori kelas bangunan\n",
    "\n",
    "2. Di Wilayah Brooklyn alamat yang paling sering dibeli atau terjual adalah **569 MADISON STREET** dan posisi kedua yaitu pada wilayah Bronx alamat **3313 WILSON AVENUE**.\n",
    "\n",
    "3. Rentang harga properti yang ada dilingkungan FINANSIAL yaitu 1.036.712.000 US DOLLAR\n",
    "\n",
    "4. harga jual rata-rata properti di Lingkungan FINANCIAL lebih tinggi daripada di ALPHABET CITY\n"
   ]
  }
 ],
 "metadata": {
  "kernelspec": {
   "display_name": "Python 3.10.6 64-bit",
   "language": "python",
   "name": "python3"
  },
  "language_info": {
   "codemirror_mode": {
    "name": "ipython",
    "version": 3
   },
   "file_extension": ".py",
   "mimetype": "text/x-python",
   "name": "python",
   "nbconvert_exporter": "python",
   "pygments_lexer": "ipython3",
   "version": "3.10.6"
  },
  "orig_nbformat": 4,
  "vscode": {
   "interpreter": {
    "hash": "229cdfb8eedfa4964725b7eb0da8d7a63b25d97a6ab808f09bd6b506844c0629"
   }
  }
 },
 "nbformat": 4,
 "nbformat_minor": 2
}
